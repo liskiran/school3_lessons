{
 "cells": [
  {
   "cell_type": "markdown",
   "id": "5232af96-8b30-4539-bd55-2cdf80ef90ee",
   "metadata": {},
   "source": [
    "## Задание 1"
   ]
  },
  {
   "cell_type": "markdown",
   "id": "5d2de42f-1070-476c-979e-9f1ec58eb506",
   "metadata": {},
   "source": [
    "Импортируйте библиотека **numpy** используя сокращение **np**"
   ]
  },
  {
   "cell_type": "code",
   "execution_count": null,
   "id": "11dcf4e4-d235-443d-b99b-3be8c654add4",
   "metadata": {},
   "outputs": [],
   "source": []
  },
  {
   "cell_type": "markdown",
   "id": "f4eee756-1245-4a8d-a98e-62e4def3853b",
   "metadata": {},
   "source": [
    "## Задание 2"
   ]
  },
  {
   "cell_type": "markdown",
   "id": "8f584dcc-c902-442e-abb9-96e4ce57c953",
   "metadata": {},
   "source": [
    "Создайте массив состоящий из одного элемента 10 \\\n",
    "Создайте массив состоящий из 10 единичек \\\n",
    "Создайте матрицу состоящий из нулевых элементов размерности (4, 5)"
   ]
  },
  {
   "cell_type": "code",
   "execution_count": null,
   "id": "db70d386-3ec6-4ad4-a2c2-9579c18832de",
   "metadata": {},
   "outputs": [],
   "source": []
  },
  {
   "cell_type": "markdown",
   "id": "9827b06c-f6bb-4aee-816d-b044cc555bef",
   "metadata": {},
   "source": [
    "## Задание 3"
   ]
  },
  {
   "cell_type": "markdown",
   "id": "78c9b7d4-b45c-4471-8664-f5c998408264",
   "metadata": {},
   "source": [
    "Создайте вектор со значениями от 10 до 49 (**Подсказка**: np.arange)"
   ]
  },
  {
   "cell_type": "code",
   "execution_count": null,
   "id": "5a43eea7-e596-4506-a665-bf3084c75401",
   "metadata": {},
   "outputs": [],
   "source": []
  },
  {
   "cell_type": "markdown",
   "id": "e957da0a-18db-4f18-9158-68eb40bd6100",
   "metadata": {},
   "source": [
    "## Задание 4"
   ]
  },
  {
   "cell_type": "markdown",
   "id": "7a101d1e-fa22-41e1-80ea-24ec4152f005",
   "metadata": {},
   "source": [
    "Создайте матрицу 3x3 со значениями от 0 до 8"
   ]
  },
  {
   "cell_type": "code",
   "execution_count": null,
   "id": "e422e038-a35a-4d48-b897-bf0ec709d4a4",
   "metadata": {},
   "outputs": [],
   "source": []
  },
  {
   "cell_type": "markdown",
   "id": "590fd25d-dbb2-4615-a40c-588101058961",
   "metadata": {},
   "source": [
    "## Задание 5"
   ]
  },
  {
   "cell_type": "markdown",
   "id": "b89373ad-9e45-44f4-94f7-0e88f72a830f",
   "metadata": {},
   "source": [
    "Найдите индексы ненулевых элементов из X \\\n",
    "(**Подсказка**: используйте функцию np.nonzero, попробуйте прочитать и понять, что делает функция из документации)"
   ]
  },
  {
   "cell_type": "code",
   "execution_count": null,
   "id": "c566d3bb-4d5a-4356-989f-1e1fb03d0d8e",
   "metadata": {},
   "outputs": [],
   "source": [
    "X = np.array([1,2,0,0,4,0])"
   ]
  },
  {
   "cell_type": "markdown",
   "id": "50d7c9d9-a21d-4fd7-8d21-d1e1202b75fc",
   "metadata": {},
   "source": [
    "## Задание 6"
   ]
  },
  {
   "cell_type": "markdown",
   "id": "3d3c00cb-da53-4b44-9284-a3df6457523a",
   "metadata": {},
   "source": [
    "Создайте массив 3x3x3 со случайными значениями"
   ]
  },
  {
   "cell_type": "code",
   "execution_count": null,
   "id": "d67c7ed7-3edf-4d86-9cf1-0412380291e9",
   "metadata": {},
   "outputs": [],
   "source": []
  },
  {
   "cell_type": "markdown",
   "id": "ae3016bc-69f8-4351-8a8c-856d343035bb",
   "metadata": {},
   "source": [
    "## Задание 7"
   ]
  },
  {
   "cell_type": "markdown",
   "id": "735ad6a4-df79-4fa4-8501-6b0eadb9ab57",
   "metadata": {},
   "source": [
    "Создайте массив 10x10 со случайными значениями и найдите минимальное и максимальное значенияm"
   ]
  },
  {
   "cell_type": "code",
   "execution_count": null,
   "id": "079b7b8f-4dc0-40d1-80fe-91fa504b583d",
   "metadata": {},
   "outputs": [],
   "source": []
  },
  {
   "cell_type": "markdown",
   "id": "f5d83810-9714-4b8f-bcfa-99e0980ced16",
   "metadata": {},
   "source": [
    "## Задание 8"
   ]
  },
  {
   "cell_type": "markdown",
   "id": "eea09daf-8ed2-4aa1-ad81-42327ecdb41c",
   "metadata": {},
   "source": [
    "Создайте случайный вектор размера 30 и найдите среднее значение "
   ]
  },
  {
   "cell_type": "code",
   "execution_count": null,
   "id": "3d2b45dc-3ee1-4195-8b4f-d3761d25c236",
   "metadata": {},
   "outputs": [],
   "source": []
  },
  {
   "cell_type": "markdown",
   "id": "6625c979-e7cb-4990-907d-8c0fc56b1204",
   "metadata": {},
   "source": [
    "## Задание 9"
   ]
  },
  {
   "cell_type": "markdown",
   "id": "ec7b4ed1-e383-4439-90e5-18105aebbe55",
   "metadata": {},
   "source": [
    "Создайте двумерный массив с 1 на границе и 0 внутри "
   ]
  },
  {
   "cell_type": "code",
   "execution_count": null,
   "id": "5cdc8a49-8553-426c-a760-d09c3c8d7b2d",
   "metadata": {},
   "outputs": [],
   "source": []
  },
  {
   "cell_type": "markdown",
   "id": "b5975254-bb95-4762-8ca4-7f75c4bdf68b",
   "metadata": {},
   "source": [
    "## Задание 10"
   ]
  },
  {
   "cell_type": "markdown",
   "id": "7c6dd8f9-1d5d-4805-b3e2-bfe2c1f2944c",
   "metadata": {},
   "source": [
    "Рассмотрим массив формы (6,7,8), каков индекс (x,y,z) 100-го элемента?"
   ]
  },
  {
   "cell_type": "code",
   "execution_count": null,
   "id": "392c9e65-ed39-4050-aac0-5522aa39bbd0",
   "metadata": {},
   "outputs": [],
   "source": []
  },
  {
   "cell_type": "markdown",
   "id": "73e2c018-6708-48f0-a206-c47d6ab0e244",
   "metadata": {},
   "source": [
    "## Задание 11"
   ]
  },
  {
   "cell_type": "markdown",
   "id": "6f7d649b-e2bc-46dd-bcdc-04463d6d330d",
   "metadata": {},
   "source": [
    "Умножение матрицы 5x3 на матрицу 3x2 (для матричного умножения можно использовать a @ b, или a.dot(b), np.dot(a, b))"
   ]
  },
  {
   "cell_type": "code",
   "execution_count": null,
   "id": "f8e2d5a1-3e85-401d-90d7-fb4e6a68866a",
   "metadata": {},
   "outputs": [],
   "source": []
  },
  {
   "cell_type": "markdown",
   "id": "aa36210d-7d43-42b8-9be5-35f08f6e3e91",
   "metadata": {},
   "source": [
    "## Задание 12"
   ]
  },
  {
   "cell_type": "markdown",
   "id": "308e89a2-bc7f-422e-a628-47a0f39cb964",
   "metadata": {},
   "source": [
    "Заданный одномерный массив, отметьте все элементы, которые находятся в диапазоне от 3 до 8, на месте"
   ]
  },
  {
   "cell_type": "code",
   "execution_count": null,
   "id": "5abe63d6-6b90-4552-b8b1-173bf309fef9",
   "metadata": {},
   "outputs": [],
   "source": []
  },
  {
   "cell_type": "markdown",
   "id": "2f06c1b1-34ea-408b-b771-f75bbd601e48",
   "metadata": {},
   "source": [
    "## Задание 13"
   ]
  },
  {
   "cell_type": "markdown",
   "id": "a53a86a2-facb-4625-8809-7355142d3a8f",
   "metadata": {},
   "source": [
    "Как найти общие значения между двумя массивами? Погуглите про == в numpy"
   ]
  },
  {
   "cell_type": "code",
   "execution_count": null,
   "id": "480fc8fc-1a5b-420a-aa0a-44fe224b2053",
   "metadata": {},
   "outputs": [],
   "source": []
  },
  {
   "cell_type": "markdown",
   "id": "04fddcca-f4fd-4a40-a4b3-e329549b4f26",
   "metadata": {},
   "source": [
    "## Задание 14"
   ]
  },
  {
   "cell_type": "markdown",
   "id": "2316d30a-5a6d-4a2f-92f4-ac1a5fbb992b",
   "metadata": {},
   "source": [
    "Создайте матрицу 5x5 со значениями строк от 0 до 4 "
   ]
  },
  {
   "cell_type": "code",
   "execution_count": null,
   "id": "42f0048b-9827-41f4-a5c3-94e672a6f720",
   "metadata": {},
   "outputs": [],
   "source": []
  },
  {
   "cell_type": "markdown",
   "id": "9e57dde7-4064-4744-8527-230a4f5f6ba2",
   "metadata": {},
   "source": [
    "## Задание 15"
   ]
  },
  {
   "cell_type": "markdown",
   "id": "bb6990c2-2713-454a-80af-be36391bd96d",
   "metadata": {},
   "source": [
    "Рассмотрим функцию-генератор, которая генерирует 10 целых чисел и использует их для построения массива ("
   ]
  },
  {
   "cell_type": "code",
   "execution_count": null,
   "id": "72195454-6b59-42f9-92ca-005202fa8acd",
   "metadata": {},
   "outputs": [],
   "source": []
  },
  {
   "cell_type": "markdown",
   "id": "d310235a-d837-4fdb-b059-fd039d008001",
   "metadata": {},
   "source": [
    "## Задание 16"
   ]
  },
  {
   "cell_type": "markdown",
   "id": "d6ddc1d7-370f-457b-93e7-3bb77ebc29d5",
   "metadata": {},
   "source": [
    "Создайте случайный вектор размера 10 и отсортируйте его "
   ]
  },
  {
   "cell_type": "code",
   "execution_count": null,
   "id": "07828b1f-b748-4721-ac38-be7be1db270d",
   "metadata": {},
   "outputs": [],
   "source": []
  },
  {
   "cell_type": "markdown",
   "id": "259d95d1-67fb-4123-83c1-9d7edb8f236b",
   "metadata": {},
   "source": [
    "## Задание 17"
   ]
  },
  {
   "cell_type": "markdown",
   "id": "ca255960-95e6-4c56-8c64-e6cd2eebe62c",
   "metadata": {},
   "source": [
    "Инвертировать вектор (первый элемент становится последним)"
   ]
  },
  {
   "cell_type": "code",
   "execution_count": null,
   "id": "50c3f1c3-d9fe-4b02-bed1-878ef5934bdb",
   "metadata": {},
   "outputs": [],
   "source": []
  },
  {
   "cell_type": "markdown",
   "id": "f39246ba-4ec4-4098-b115-ad7c09811078",
   "metadata": {},
   "source": [
    "## Задание 18"
   ]
  },
  {
   "cell_type": "markdown",
   "id": "b5dd5595-3695-40a4-bb0a-78627b317fc2",
   "metadata": {},
   "source": [
    "Создайте единичную матрицу 3x3"
   ]
  },
  {
   "cell_type": "code",
   "execution_count": null,
   "id": "d3be3391-8c79-4a7f-9d0d-c6e47ef41393",
   "metadata": {},
   "outputs": [],
   "source": []
  },
  {
   "cell_type": "markdown",
   "id": "2e333f9f-724e-4d16-978e-6721162ec275",
   "metadata": {},
   "source": [
    "## Задание 19"
   ]
  },
  {
   "cell_type": "markdown",
   "id": "6f6ed105-75ee-4c51-a333-afde489abf0f",
   "metadata": {},
   "source": [
    "Создайте массив 10x10 со случайными значениями и найдите минимальное и максимальное значения: (np.random.random - почитайте документацию)"
   ]
  },
  {
   "cell_type": "code",
   "execution_count": null,
   "id": "6756709a-89fb-4938-9c00-816a64de4309",
   "metadata": {},
   "outputs": [],
   "source": []
  },
  {
   "cell_type": "markdown",
   "id": "63c9a0a6-2d90-467d-b48c-ba29055198d1",
   "metadata": {},
   "source": [
    "## Задание 20"
   ]
  },
  {
   "cell_type": "markdown",
   "id": "ddad5407-63fa-41cf-95e6-ea2c2a0a93cd",
   "metadata": {},
   "source": [
    "Создайте матрицу 5 на 5 со значениями 1,2,3,4 сразу ниже диагонали"
   ]
  },
  {
   "cell_type": "code",
   "execution_count": null,
   "id": "34308279-8ace-4474-adcd-dbcfab62cc57",
   "metadata": {},
   "outputs": [],
   "source": []
  }
 ],
 "metadata": {
  "kernelspec": {
   "display_name": "Python 3 (ipykernel)",
   "language": "python",
   "name": "python3"
  },
  "language_info": {
   "codemirror_mode": {
    "name": "ipython",
    "version": 3
   },
   "file_extension": ".py",
   "mimetype": "text/x-python",
   "name": "python",
   "nbconvert_exporter": "python",
   "pygments_lexer": "ipython3",
   "version": "3.12.0"
  },
  "widgets": {
   "application/vnd.jupyter.widget-state+json": {
    "state": {},
    "version_major": 2,
    "version_minor": 0
   }
  }
 },
 "nbformat": 4,
 "nbformat_minor": 5
}
