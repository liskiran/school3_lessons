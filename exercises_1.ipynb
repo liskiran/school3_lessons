{
 "cells": [
  {
   "cell_type": "markdown",
   "id": "ea7152e6-b933-416d-bf42-18c69859ad8a",
   "metadata": {},
   "source": [
    "# Упражнения"
   ]
  },
  {
   "cell_type": "markdown",
   "id": "3e6e98b2-6a95-4f39-bb18-5854ba8fb514",
   "metadata": {},
   "source": [
    "## First"
   ]
  },
  {
   "cell_type": "markdown",
   "id": "e36a7893-5994-452c-85ce-becc1aea9ffb",
   "metadata": {},
   "source": [
    "Найти все корни уравнения: \\\n",
    "$ax^2 + bx + c = 0$, для любых $a, b, c$"
   ]
  },
  {
   "cell_type": "code",
   "execution_count": 1,
   "id": "67d1aab0-fc87-468b-8f08-4c6c69658f65",
   "metadata": {},
   "outputs": [
    {
     "name": "stdout",
     "output_type": "stream",
     "text": [
      "Math:    3.0\n",
      "Builtin: 3.0\n"
     ]
    }
   ],
   "source": [
    "# Может понадобиться\n",
    "from math import sqrt\n",
    "import math\n",
    "# Хорошая либа, много всяких нужных математических функций\n",
    "\n",
    "print(\"Math:   \", sqrt(9)) # квадратный корень от числа\n",
    "# либо \n",
    "print(\"Builtin:\", 9 ** 0.5)"
   ]
  },
  {
   "cell_type": "code",
   "execution_count": 2,
   "id": "cfe9701b-6c47-40d8-9c2a-920e115108f5",
   "metadata": {},
   "outputs": [
    {
     "name": "stdout",
     "output_type": "stream",
     "text": [
      "30.1 ns ± 0.0745 ns per loop (mean ± std. dev. of 7 runs, 10,000,000 loops each)\n"
     ]
    }
   ],
   "source": [
    "%timeit sqrt(9)"
   ]
  },
  {
   "cell_type": "code",
   "execution_count": 3,
   "id": "5eef0a8d-cd1f-4e58-ab67-e9e765f56a9e",
   "metadata": {},
   "outputs": [
    {
     "name": "stdout",
     "output_type": "stream",
     "text": [
      "3.52 ns ± 0.025 ns per loop (mean ± std. dev. of 7 runs, 100,000,000 loops each)\n"
     ]
    }
   ],
   "source": [
    "%timeit 9 ** 0.5"
   ]
  },
  {
   "cell_type": "code",
   "execution_count": 3,
   "id": "df8f1ef4-0f29-4385-affc-6692f60a2b98",
   "metadata": {},
   "outputs": [
    {
     "name": "stdout",
     "output_type": "stream",
     "text": [
      "{2, 3, 4, 5}\n"
     ]
    }
   ],
   "source": [
    "from typing import Set\n",
    "\n",
    "# Set - структура данных хранящая уникальные отсортированные элементы\n",
    "# Example: \n",
    "\n",
    "print({3, 4, 5, 2, 3, 5})"
   ]
  },
  {
   "cell_type": "code",
   "execution_count": 5,
   "id": "08597aa4-ffa3-4025-87ef-a4e21b34bdb9",
   "metadata": {},
   "outputs": [],
   "source": [
    "def get_solutions_quadratic_equation(a: float, b: float, c: float) -> Set[float]:\n",
    "    # Выход функции представляет собой set от float\n",
    "    \"\"\" \n",
    "    Need return the solutions of the equation\n",
    "    x**2+b*x+c=0\n",
    "    \"\"\"\n",
    "    \n",
    "    #<TODO> Your code\n",
    "\n",
    "    return ..."
   ]
  },
  {
   "cell_type": "markdown",
   "id": "2e40ca14-b42e-4be3-a84a-e7e958dead6b",
   "metadata": {},
   "source": [
    "### Это тесты, просто запустите клетку, если прошло, то все ок"
   ]
  },
  {
   "cell_type": "code",
   "execution_count": 6,
   "id": "1d13515d-c9a5-4b37-8e43-c43870d85e42",
   "metadata": {},
   "outputs": [
    {
     "ename": "AssertionError",
     "evalue": "",
     "output_type": "error",
     "traceback": [
      "\u001b[0;31m---------------------------------------------------------------------------\u001b[0m",
      "\u001b[0;31mAssertionError\u001b[0m                            Traceback (most recent call last)",
      "Cell \u001b[0;32mIn[6], line 1\u001b[0m\n\u001b[0;32m----> 1\u001b[0m \u001b[38;5;28;01massert\u001b[39;00m get_solutions_quadratic_equation(\u001b[38;5;241m1\u001b[39m, \u001b[38;5;241m2\u001b[39m, \u001b[38;5;241m1\u001b[39m) \u001b[38;5;241m==\u001b[39m {\u001b[38;5;241m-\u001b[39m\u001b[38;5;241m1.0\u001b[39m} \u001b[38;5;66;03m# x^2 + 2*x + 1 = 0\u001b[39;00m\n\u001b[1;32m      2\u001b[0m \u001b[38;5;28;01massert\u001b[39;00m get_solutions_quadratic_equation(\u001b[38;5;241m0\u001b[39m, \u001b[38;5;241m2\u001b[39m, \u001b[38;5;241m2\u001b[39m) \u001b[38;5;241m==\u001b[39m {\u001b[38;5;241m-\u001b[39m\u001b[38;5;241m1.0\u001b[39m} \u001b[38;5;66;03m# 2*x + 1 = 0\u001b[39;00m\n\u001b[1;32m      3\u001b[0m \u001b[38;5;28;01massert\u001b[39;00m get_solutions_quadratic_equation(\u001b[38;5;241m0\u001b[39m, \u001b[38;5;241m0\u001b[39m, \u001b[38;5;241m1\u001b[39m) \u001b[38;5;241m==\u001b[39m {} \u001b[38;5;66;03m# 1 = 0 - no solutions\u001b[39;00m\n",
      "\u001b[0;31mAssertionError\u001b[0m: "
     ]
    }
   ],
   "source": [
    "assert get_solutions_quadratic_equation(1, 2, 1) == {-1.0} # x^2 + 2*x + 1 = 0\n",
    "assert get_solutions_quadratic_equation(0, 2, 2) == {-1.0} # 2*x + 1 = 0\n",
    "assert get_solutions_quadratic_equation(0, 0, 1) == {} # 1 = 0 - no solutions\n",
    "assert get_solutions_quadratic_equation(1, 2, 1) == {-1.0} # x^2 + 2*x + 1 = 0\n",
    "assert get_solutions_quadratic_equation(1, 5, -6) == {-6.0, 1.0} # x^2 + 5x - 6 = 0\n",
    "assert get_solutions_quadratic_equation(1, 5, 8) == {-5/2+math.sqrt(7)/2*1j, -5/2-math.sqrt(7)/2*1j} # x^2 + 5x + 8 = 0"
   ]
  },
  {
   "cell_type": "markdown",
   "id": "16ff6f62",
   "metadata": {},
   "source": [
    "## Подсчитайте среднее, максимальное и минимальное значение списка"
   ]
  },
  {
   "cell_type": "code",
   "execution_count": 1,
   "id": "3c5482c6-7670-4040-bf15-bd71dbe5cc3f",
   "metadata": {},
   "outputs": [],
   "source": [
    "def mean(values: list[int]) -> float:\n",
    "    pass \n",
    "\n",
    "def max(values: list[int]) -> int:\n",
    "    pass\n",
    "\n",
    "def min(values: list[int]) -> int:\n",
    "    pass"
   ]
  },
  {
   "cell_type": "code",
   "execution_count": 2,
   "id": "e0b45b69",
   "metadata": {},
   "outputs": [],
   "source": [
    "assert(mean([1, 2, 3]) == 2)\n",
    "assert(max([1, 2, 3]) == 3)\n",
    "assert(min([1, 2, 3]) == 1)\n",
    "\n",
    "assert(mean([1, 2, 3]) != 1)\n",
    "assert(max([1, 2, 3]) != 2)\n",
    "assert(min([1, 2, 3]) != 2)\n",
    "\n",
    "assert(mean([1, 2, 3]) != 3)\n",
    "assert(max([1, 2, 3]) != 1)\n",
    "assert(min([1, 2, 3]) != 3)"
   ]
  },
  {
   "cell_type": "code",
   "execution_count": null,
   "id": "fddef3b9",
   "metadata": {},
   "outputs": [],
   "source": []
  }
 ],
 "metadata": {
  "kernelspec": {
   "display_name": "Python 3 (ipykernel)",
   "language": "python",
   "name": "python3"
  },
  "language_info": {
   "codemirror_mode": {
    "name": "ipython",
    "version": 3
   },
   "file_extension": ".py",
   "mimetype": "text/x-python",
   "name": "python",
   "nbconvert_exporter": "python",
   "pygments_lexer": "ipython3",
   "version": "3.12.0"
  }
 },
 "nbformat": 4,
 "nbformat_minor": 5
}
