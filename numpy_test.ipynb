{
 "cells": [
  {
   "cell_type": "code",
   "execution_count": 1,
   "id": "23f41a4f-bc9a-4fcb-9793-449e0b0f83a9",
   "metadata": {},
   "outputs": [],
   "source": [
    "import numpy as np"
   ]
  },
  {
   "cell_type": "markdown",
   "id": "953784ff-47e5-4825-a076-70fff312fc12",
   "metadata": {},
   "source": [
    "## Numpy basics\n",
    "\n",
    "Реализуйте функцию, принимающую на вход два одномерных массива ```x``` и ```y``` и возвращающую матрицу, в которой первый массив соответствует первому столбцу матрицы, второй - второму.\n",
    "\n",
    "### Замечания\n",
    "\n",
    "* нельзя использовать циклы (ключевые слова for и while), list comprehension, map и т.п.\n",
    "* под матрицей понимается двумерный numpy.array"
   ]
  },
  {
   "cell_type": "code",
   "execution_count": null,
   "id": "02f2977b-cb6d-49bc-874b-a0e708db2587",
   "metadata": {},
   "outputs": [],
   "source": [
    "def new_matrix(values: np.array) -> np.array:\n",
    "    # Your code\n",
    "    return \n",
    "\n",
    "new_matrix()"
   ]
  },
  {
   "cell_type": "markdown",
   "id": "8a3e4681-9412-4822-8b99-513128a68d45",
   "metadata": {},
   "source": [
    "## Max element\n",
    "\n",
    "`np.nonzero()`\n",
    "\n",
    "### Условие\n",
    "\n",
    "Реализуйте функцию, возвращающую максимальный элемент в массиве ```X``` среди элементов, перед которыми стоит нулевой.\n",
    "\n",
    "Например, для ```X = np.array([6, 2, 0, 3, 0, 0, 5, 7, 0])``` ответом является 5.\n",
    "Если подходящих элементов нет, функция должна возвращать ```None```.\n",
    "\n",
    "### Замечания\n",
    "\n",
    "* нельзя использовать циклы (ключевые слова for и while), list comprehension, map и т.п.\n",
    "* под матрицей понимается одномерный numpy.array\n"
   ]
  },
  {
   "cell_type": "code",
   "execution_count": null,
   "id": "54d4ebbf-0bbd-45a3-942d-1d3caadd550d",
   "metadata": {},
   "outputs": [],
   "source": [
    "def max_element(values: np.array) -> np.array | None:\n",
    "    # Your code\n",
    "    return \n",
    "\n",
    "max_element()"
   ]
  },
  {
   "cell_type": "markdown",
   "id": "cd9230bd-ce80-48d3-a141-956c586a53b0",
   "metadata": {},
   "source": [
    "## Nonzero product\n",
    "\n",
    "### Условие\n",
    "Реализуйте функцию для подсчёта произведения ненулевых элементов на диагонали прямоугольной матрицы\n",
    "\n",
    "Например, для ```X = np.array([[1, 0, 1], [2, 0, 2], [3, 0, 3], [4, 4, 4]])``` ответом является 3.\n",
    "Если ненулевых элементов нет, функция должна возвращать ```None```.\n",
    "\n",
    "### Замечания\n",
    "\n",
    "* нельзя использовать циклы (ключевые слова for и while), list comprehension, map и т.п.\n",
    "* под матрицей понимается двумерный numpy.array"
   ]
  },
  {
   "cell_type": "code",
   "execution_count": null,
   "id": "11957a03-a7d5-440c-8d08-2e73d725f747",
   "metadata": {},
   "outputs": [],
   "source": [
    "def nonzero_product(values: np.array) -> np.array | None:\n",
    "    # Your code\n",
    "    return \n",
    "\n",
    "nonzero_product()"
   ]
  }
 ],
 "metadata": {
  "kernelspec": {
   "display_name": "Python 3 (ipykernel)",
   "language": "python",
   "name": "python3"
  },
  "language_info": {
   "codemirror_mode": {
    "name": "ipython",
    "version": 3
   },
   "file_extension": ".py",
   "mimetype": "text/x-python",
   "name": "python",
   "nbconvert_exporter": "python",
   "pygments_lexer": "ipython3",
   "version": "3.12.0"
  },
  "widgets": {
   "application/vnd.jupyter.widget-state+json": {
    "state": {},
    "version_major": 2,
    "version_minor": 0
   }
  }
 },
 "nbformat": 4,
 "nbformat_minor": 5
}
