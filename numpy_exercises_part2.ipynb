{
 "cells": [
  {
   "cell_type": "markdown",
   "id": "0de2676d-fc30-49b9-b0b1-9ef5001c90b9",
   "metadata": {},
   "source": [
    "Создайте матрицу шахматной доски 8x8, используя функцию tile"
   ]
  },
  {
   "cell_type": "code",
   "execution_count": null,
   "id": "72cd6141-da5e-4cf3-9f5c-2af2c0c27ba6",
   "metadata": {},
   "outputs": [],
   "source": []
  },
  {
   "cell_type": "markdown",
   "id": "64735d9d-7e03-47fd-a7ef-f80e6648a1c4",
   "metadata": {},
   "source": [
    "Задан одномерный массив, инвертируйте (поменяйте знак) у всех элементов массива, которые находятся в диапазоне от 3 до 8, прямо в нем самом (без перезаписывания значений)."
   ]
  },
  {
   "cell_type": "code",
   "execution_count": null,
   "id": "f0648233-6d9a-4c9d-be38-9bc5adb2042f",
   "metadata": {},
   "outputs": [],
   "source": []
  },
  {
   "cell_type": "markdown",
   "id": "ace61768-1c03-4739-8864-e20a0801e79b",
   "metadata": {},
   "source": [
    "Как найти общие значения между двумя массивами (np.intersect1d)"
   ]
  },
  {
   "cell_type": "code",
   "execution_count": null,
   "id": "232ac60b-dcf7-4ea8-953a-74a7a69db7ec",
   "metadata": {},
   "outputs": [],
   "source": []
  },
  {
   "cell_type": "markdown",
   "id": "b8ea755a-78b3-4bb4-8936-331e3f6eb686",
   "metadata": {},
   "source": [
    "Создайте вектор размера 10 со значениями от 0 до 1, за исключением границ отрезка 0 и 1. (np.linspace)"
   ]
  },
  {
   "cell_type": "code",
   "execution_count": null,
   "id": "495408a5-8f3e-4c1a-82c5-88a6b00a22ea",
   "metadata": {},
   "outputs": [],
   "source": []
  },
  {
   "cell_type": "markdown",
   "id": "98366244-0b5b-4499-aa29-8b6b150852f6",
   "metadata": {},
   "source": [
    "Создайте случайный вектор размером 10 и отсортируйте его (np.sort)"
   ]
  },
  {
   "cell_type": "code",
   "execution_count": null,
   "id": "6a39f162-0673-41d7-b984-4fcb3fb3e780",
   "metadata": {},
   "outputs": [],
   "source": []
  },
  {
   "cell_type": "markdown",
   "id": "82efb05f-96e8-44e2-901d-6f534fa3e72d",
   "metadata": {},
   "source": [
    "Рассмотрим два случайных массива A и B, проверьте, равны ли они"
   ]
  },
  {
   "cell_type": "code",
   "execution_count": null,
   "id": "d68ee177-a5ef-44d0-bf68-b1521731aef6",
   "metadata": {},
   "outputs": [],
   "source": []
  },
  {
   "cell_type": "markdown",
   "id": "abc314c5-0892-4337-a6df-d414f08d9830",
   "metadata": {},
   "source": [
    "Создайте случайный вектор размером 10 и замените максимальное значение на 0 (np.argmax)"
   ]
  },
  {
   "cell_type": "code",
   "execution_count": null,
   "id": "a46e494f-7e16-4b15-97cc-f002afdb7ac0",
   "metadata": {},
   "outputs": [],
   "source": []
  },
  {
   "cell_type": "markdown",
   "id": "b10be46f-1ea7-49b2-ba48-73a3c6005b91",
   "metadata": {},
   "source": [
    "Создайте структурированный массив с координатами x и y, покрывающими область [0,1] x [0,1]. (np.linspace или np.meshgrid)"
   ]
  },
  {
   "cell_type": "code",
   "execution_count": null,
   "id": "1ac415e0-ed9a-4154-be1b-9baf9ae3a140",
   "metadata": {},
   "outputs": [],
   "source": []
  },
  {
   "cell_type": "markdown",
   "id": "9d1c9b89-3552-43f4-9532-5166a93375d2",
   "metadata": {},
   "source": [
    "Для двух массивов, X и Y, построить матрицу Коши C (Cij = 1 / (xi - yj))"
   ]
  },
  {
   "cell_type": "code",
   "execution_count": null,
   "id": "573360b6-a3a1-49b2-822f-3d2e8b84c411",
   "metadata": {},
   "outputs": [],
   "source": []
  },
  {
   "cell_type": "markdown",
   "id": "68a2b479-1e06-43c5-b546-c393b3bb3f16",
   "metadata": {},
   "source": [
    "Как найти ближайшее значение (к заданному скаляру (числу)) в векторе?"
   ]
  },
  {
   "cell_type": "code",
   "execution_count": null,
   "id": "2328ee66-7aed-4bb5-8267-abe417fecf51",
   "metadata": {},
   "outputs": [],
   "source": []
  },
  {
   "cell_type": "markdown",
   "id": "87396a34-79cb-4dfa-ab7b-486f749c398c",
   "metadata": {},
   "source": [
    "Рассмотрим случайный вектор с формой (5,2), представляющей координаты, найдите расстояния от точки до точки (результат представьте в виде матрицы - таким образом должна получиться матрица 5 на пять где элемент с индексом i и j будет растоянием между точкой i и j) "
   ]
  },
  {
   "cell_type": "code",
   "execution_count": null,
   "id": "f6275037-7ea3-4d42-bd50-2261d201a785",
   "metadata": {},
   "outputs": [],
   "source": []
  },
  {
   "cell_type": "markdown",
   "id": "5d66561b-9302-4608-bcc8-87b31f773690",
   "metadata": {},
   "source": [
    "Вычтите среднее значение каждой строки матрицы.\n",
    "Пояснение к заданию: необходимо вычислить среднее значение каждой строки матрицы и вычесть его из элементов соответствующей строки"
   ]
  },
  {
   "cell_type": "code",
   "execution_count": null,
   "id": "5685988c-8777-4730-9d8d-8d5173381149",
   "metadata": {},
   "outputs": [],
   "source": []
  },
  {
   "cell_type": "markdown",
   "id": "97bf8fb0-a983-4832-b326-088ff011384d",
   "metadata": {},
   "source": [
    "Как определить, есть ли в данном 2D-массиве нулевые столбцы?"
   ]
  },
  {
   "cell_type": "code",
   "execution_count": null,
   "id": "eff7da99-24ff-4fd8-81d8-47642ae611fc",
   "metadata": {},
   "outputs": [],
   "source": []
  },
  {
   "cell_type": "markdown",
   "id": "4f3633d6-9f53-4a9e-aa44-7dac7f2ed204",
   "metadata": {},
   "source": [
    "Рассмотрим вектор [1, 2, 3, 4, 5], как построить новый вектор с 3 последовательными нулями, чередующимися между каждым значением"
   ]
  },
  {
   "cell_type": "code",
   "execution_count": null,
   "id": "ac4eec56-0498-42b0-8c4c-74434c280f0e",
   "metadata": {},
   "outputs": [],
   "source": []
  },
  {
   "cell_type": "markdown",
   "id": "ed720a48-1725-4b0d-952f-3137354e9344",
   "metadata": {},
   "source": [
    "Реализуйте функцию, которая для произвольной матрицы $X$ и произвольного числа $k$ заменяет все диагональные элементы матрицы на $k$ (функция не должна ничего возвращать, только модифицировать заданную матрицу)"
   ]
  },
  {
   "cell_type": "code",
   "execution_count": null,
   "id": "61ea19d7-f799-436e-ab8c-cd365e94f8c3",
   "metadata": {},
   "outputs": [],
   "source": []
  },
  {
   "cell_type": "markdown",
   "id": "db77a6a2-c9a5-4205-90c6-5b001c709ff6",
   "metadata": {},
   "source": [
    "Реализуйте функцию, которая для произвольной матрицы $X$ и произвольного числа k возвращает вектор, состоящий из тех значений $x_{ij}$, для которых верно равенство $(i + j) \\bmod k = 0$"
   ]
  },
  {
   "cell_type": "code",
   "execution_count": null,
   "id": "488489a0-887a-4645-a645-fbcd8c49b8d1",
   "metadata": {},
   "outputs": [],
   "source": []
  },
  {
   "cell_type": "markdown",
   "id": "7994cc94-bbc9-410c-8f01-f795b56cd77e",
   "metadata": {},
   "source": [
    "В numpy пропущенное значение (`np.nan`) имеет тип `float`:"
   ]
  },
  {
   "cell_type": "code",
   "execution_count": 6,
   "id": "f41048b4-df71-44c0-a526-2bf198179cfc",
   "metadata": {},
   "outputs": [],
   "source": [
    "import numpy as np"
   ]
  },
  {
   "cell_type": "code",
   "execution_count": 7,
   "id": "07329a7f-b5ad-45de-9532-2c0cf0feb8d1",
   "metadata": {},
   "outputs": [
    {
     "data": {
      "text/plain": [
       "float"
      ]
     },
     "execution_count": 7,
     "metadata": {},
     "output_type": "execute_result"
    }
   ],
   "source": [
    "type(np.nan)"
   ]
  },
  {
   "cell_type": "markdown",
   "id": "9180fc0b-3974-4c8d-a36d-adf55fd4331b",
   "metadata": {},
   "source": [
    "Из-за этого любой числовой массив, содержащий пропущенные значения, будет автоматически иметь тип `float`:"
   ]
  },
  {
   "cell_type": "code",
   "execution_count": 8,
   "id": "4cbb3926-bb22-4824-899f-9978aee4b5e2",
   "metadata": {},
   "outputs": [
    {
     "data": {
      "text/plain": [
       "array([ 1.,  2.,  3., nan])"
      ]
     },
     "execution_count": 8,
     "metadata": {},
     "output_type": "execute_result"
    }
   ],
   "source": [
    "t = np.array([1, 2, 3, np.nan])\n",
    "t"
   ]
  },
  {
   "cell_type": "code",
   "execution_count": 9,
   "id": "5932511d-697d-44e0-a20e-3f70df2de220",
   "metadata": {},
   "outputs": [
    {
     "data": {
      "text/plain": [
       "dtype('float64')"
      ]
     },
     "execution_count": 9,
     "metadata": {},
     "output_type": "execute_result"
    }
   ],
   "source": [
    "t.dtype"
   ]
  },
  {
   "cell_type": "markdown",
   "id": "e689dd1d-1aab-4d9f-91e3-f2d4a5e53803",
   "metadata": {},
   "source": [
    "Реализуйте функцию, которая для произвольной матрицы $X$ будет заменять все пропущенные значения на среднее значение в соответствующей строке, округленное до целого. Также эта функция должна поменять тип матрицы с `float` на `int`, если она после этого преобразования состоит только из целых чисел (считаем, что `3.0` - это целое число). В этой задаче можно создать и вернуть новый объект."
   ]
  },
  {
   "cell_type": "code",
   "execution_count": null,
   "id": "772f1475-6b92-4316-89e4-cc92ece1b8b3",
   "metadata": {},
   "outputs": [],
   "source": []
  },
  {
   "cell_type": "markdown",
   "id": "23958194-e7e4-498d-90c9-8388e03629d1",
   "metadata": {},
   "source": [
    "С помощью библиотеки `numba` и декоратора `numba.njit` реализуйте функцию, которая для заданной матрицы, состоящей из положительных чисел, выполняет следующее:\n",
    "\n",
    "1) Все нулевые элементы массива заменяются на случайное целое число от 0 до 100 (без создания копии массива);\n",
    "\n",
    "2) Возвращает среднее значение квадратных корней элементов матрицы (то есть значение $K = \\frac{1}{N\\cdot M}\\sum_{i=1}^N \\sum_{j=1}^M \\sqrt{x_{ij}}$);\n",
    "\n",
    "Сравните скорость работы функции с декоратором и без декоратора. Попробуйте также задать разные значения `parallel` и `fastmath` при использовании декоратора. Опишите, как это влияет на скорость работы и попробуйте предположить, почему получаются такие результаты.\n",
    "\n",
    "Матрица $X$ задана следующим образом:"
   ]
  },
  {
   "cell_type": "code",
   "execution_count": 11,
   "id": "dcd33a2c-496a-4d62-80a6-7996b09e3c4b",
   "metadata": {},
   "outputs": [],
   "source": [
    "X = np.random.randint(0, 1000, size=(1000, 100))"
   ]
  },
  {
   "cell_type": "markdown",
   "id": "5e244487-b9d4-4ff3-9e6a-bd10f42db6d7",
   "metadata": {},
   "source": [
    "$\\textbf{Важно:}$ Попробуйте решить задачу без использования циклов. Если не получается сделать решение без циклов, то приведите реализацию с циклами. Подробно опишите полученные результаты, за отсутствие интерпретации будут снижаться баллы."
   ]
  },
  {
   "cell_type": "code",
   "execution_count": null,
   "id": "391f284b-d2e9-4ee9-b2bb-f44a08a2956b",
   "metadata": {},
   "outputs": [],
   "source": []
  }
 ],
 "metadata": {
  "kernelspec": {
   "display_name": "Python 3 (ipykernel)",
   "language": "python",
   "name": "python3"
  },
  "language_info": {
   "codemirror_mode": {
    "name": "ipython",
    "version": 3
   },
   "file_extension": ".py",
   "mimetype": "text/x-python",
   "name": "python",
   "nbconvert_exporter": "python",
   "pygments_lexer": "ipython3",
   "version": "3.12.0"
  },
  "widgets": {
   "application/vnd.jupyter.widget-state+json": {
    "state": {},
    "version_major": 2,
    "version_minor": 0
   }
  }
 },
 "nbformat": 4,
 "nbformat_minor": 5
}
